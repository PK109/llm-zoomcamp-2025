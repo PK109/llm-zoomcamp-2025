{
 "cells": [
  {
   "cell_type": "code",
   "execution_count": 5,
   "id": "1cd532cf-2d6b-45ee-b51a-8943cf23b77e",
   "metadata": {},
   "outputs": [],
   "source": [
    "import openai\n",
    "from openai import OpenAI\n",
    "import os"
   ]
  },
  {
   "cell_type": "code",
   "execution_count": 6,
   "id": "302348de-e556-469b-84b6-71debec442a7",
   "metadata": {},
   "outputs": [],
   "source": [
    "client = OpenAI()"
   ]
  },
  {
   "cell_type": "code",
   "execution_count": 11,
   "id": "a85b0974-bff7-4fe2-97f3-a36d444f13a8",
   "metadata": {},
   "outputs": [],
   "source": [
    "response = client.chat.completions.create(\n",
    "    model='gpt-4.1-mini',\n",
    "    messages=[{'role': 'user', 'content':'How about joining a LLM course?'}]\n",
    ")"
   ]
  },
  {
   "cell_type": "code",
   "execution_count": 15,
   "id": "9f6e3c65-9f5f-4c1c-8bfe-469d13fa83d8",
   "metadata": {},
   "outputs": [
    {
     "data": {
      "text/plain": [
       "\"Joining a course on Large Language Models (LLMs) can be a great way to deepen your understanding of how models like GPT work, their applications, and the underlying technology such as deep learning and natural language processing. Here are a few things to consider if you're thinking about enrolling in an LLM course:\\n\\n1. **Your Goals:**  \\n   - Are you interested in developing LLMs yourself?  \\n   - Do you want to apply LLMs to solve specific problems like chatbots, text generation, or data analysis?  \\n   - Are you looking to understand the ethical and societal impacts of LLMs?\\n\\n2. **Course Content:**  \\n   Look for courses that cover topics such as:  \\n   - Transformer architectures  \\n   - Training and fine-tuning large models  \\n   - Natural language processing fundamentals  \\n   - Prompt engineering  \\n   - Evaluation and limitations of LLMs  \\n   - Responsible AI and bias mitigation\\n\\n3. **Prerequisites:**  \\n   Most LLM courses require some background in:  \\n   - Python programming  \\n   - Machine learning fundamentals  \\n   - Neural networks and deep learning basics\\n\\n4. **Course Formats:**  \\n   - Online platforms like Coursera, edX, Udacity, and others offer LLM-related courses.  \\n   - University offerings or specialized bootcamps.  \\n   - Workshops and tutorials from AI conferences.\\n\\n5. **Hands-On Practice:**  \\n   Practical experience is crucial. Look for courses that have projects involving:  \\n   - Using libraries like Hugging Face Transformers  \\n   - Training or fine-tuning models on real datasets  \\n   - Deploying models in applications\\n\\nIf you let me know your background and what you hope to achieve, I can help recommend specific courses or resources!\""
      ]
     },
     "execution_count": 15,
     "metadata": {},
     "output_type": "execute_result"
    }
   ],
   "source": [
    "printresponse.choices[0].message.content"
   ]
  },
  {
   "cell_type": "markdown",
   "id": "8abd4003-0240-4adf-83bc-305fabe10592",
   "metadata": {},
   "source": [
    "\"Joining a course on Large Language Models (LLMs) can be a great way to deepen your understanding of how models like GPT work, their applications, and the underlying technology such as deep learning and natural language processing. Here are a few things to consider if you're thinking about enrolling in an LLM course:\\n\\n1. **Your Goals:**  \\n   - Are you interested in developing LLMs yourself?  \\n   - Do you want to apply LLMs to solve specific problems like chatbots, text generation, or data analysis?  \\n   - Are you looking to understand the ethical and societal impacts of LLMs?\\n\\n2. **Course Content:**  \\n   Look for courses that cover topics such as:  \\n   - Transformer architectures  \\n   - Training and fine-tuning large models  \\n   - Natural language processing fundamentals  \\n   - Prompt engineering  \\n   - Evaluation and limitations of LLMs  \\n   - Responsible AI and bias mitigation\\n\\n3. **Prerequisites:**  \\n   Most LLM courses require some background in:  \\n   - Python programming  \\n   - Machine learning fundamentals  \\n   - Neural networks and deep learning basics\\n\\n4. **Course Formats:**  \\n   - Online platforms like Coursera, edX, Udacity, and others offer LLM-related courses.  \\n   - University offerings or specialized bootcamps.  \\n   - Workshops and tutorials from AI conferences.\\n\\n5. **Hands-On Practice:**  \\n   Practical experience is crucial. Look for courses that have projects involving:  \\n   - Using libraries like Hugging Face Transformers  \\n   - Training or fine-tuning models on real datasets  \\n   - Deploying models in applications\\n\\nIf you let me know your background and what you hope to achieve, I can help recommend specific courses or resources!\""
   ]
  },
  {
   "cell_type": "code",
   "execution_count": null,
   "id": "3d64ac83-c04c-4c3f-b760-6aa03583ab0d",
   "metadata": {},
   "outputs": [],
   "source": []
  }
 ],
 "metadata": {
  "kernelspec": {
   "display_name": "Python 3 (ipykernel)",
   "language": "python",
   "name": "python3"
  },
  "language_info": {
   "codemirror_mode": {
    "name": "ipython",
    "version": 3
   },
   "file_extension": ".py",
   "mimetype": "text/x-python",
   "name": "python",
   "nbconvert_exporter": "python",
   "pygments_lexer": "ipython3",
   "version": "3.12.1"
  }
 },
 "nbformat": 4,
 "nbformat_minor": 5
}
