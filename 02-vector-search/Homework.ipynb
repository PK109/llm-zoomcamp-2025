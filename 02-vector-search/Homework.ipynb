{
 "cells": [
  {
   "cell_type": "code",
   "execution_count": 15,
   "id": "c98413df-700d-467f-846c-590368d3865d",
   "metadata": {},
   "outputs": [],
   "source": [
    "from fastembed import TextEmbedding"
   ]
  },
  {
   "cell_type": "code",
   "execution_count": 16,
   "id": "b41b3d99-8248-4de3-971b-3e028b463dbc",
   "metadata": {},
   "outputs": [],
   "source": [
    "from qdrant_client import QdrantClient, models"
   ]
  },
  {
   "cell_type": "code",
   "execution_count": 17,
   "id": "897057fa-665b-460d-839f-8ccf378eed51",
   "metadata": {},
   "outputs": [],
   "source": [
    "model_handle = \"jinaai/jina-embeddings-v2-small-en\""
   ]
  },
  {
   "cell_type": "code",
   "execution_count": 18,
   "id": "2faa9ff6-733b-42ab-b790-54ff93c9f424",
   "metadata": {},
   "outputs": [],
   "source": [
    "client = QdrantClient(\"http://localhost:6333\") #connecting to local Qdrant instance"
   ]
  },
  {
   "cell_type": "code",
   "execution_count": 19,
   "id": "d56916e9-d748-4ddf-bf40-7a3fada62ede",
   "metadata": {},
   "outputs": [
    {
     "name": "stderr",
     "output_type": "stream",
     "text": [
      "Fetching 5 files: 100%|████████████████████████████████████████████████████████████████████████████████████████| 5/5 [00:01<00:00,  4.16it/s]\n"
     ]
    }
   ],
   "source": [
    "embedding_model = TextEmbedding(model_name=model_handle)"
   ]
  },
  {
   "cell_type": "code",
   "execution_count": 20,
   "id": "cb0e5d43-2ebe-433d-bac4-b1592270c2cd",
   "metadata": {},
   "outputs": [],
   "source": [
    "query: list[str] = ['I just discovered the course. Can I join now?']"
   ]
  },
  {
   "cell_type": "code",
   "execution_count": 21,
   "id": "3c65e5ff-81c3-41bf-bd53-5f06b95b365c",
   "metadata": {},
   "outputs": [
    {
     "data": {
      "text/plain": [
       "np.float64(-0.11726373885183883)"
      ]
     },
     "execution_count": 21,
     "metadata": {},
     "output_type": "execute_result"
    }
   ],
   "source": [
    "embeddings_generator = embedding_model.embed(query)\n",
    "query_list = list(embeddings_generator)\n",
    "min(query_list[0])  "
   ]
  },
  {
   "cell_type": "code",
   "execution_count": 22,
   "id": "5d397934-08a5-4c96-b9e8-ec677c93e532",
   "metadata": {},
   "outputs": [],
   "source": [
    "documents = [{'text': \"Yes, even if you don't register, you're still eligible to submit the homeworks.\\nBe aware, however, that there will be deadlines for turning in the final projects. So don't leave everything for the last minute.\",\n",
    "  'section': 'General course-related questions',\n",
    "  'question': 'Course - Can I still join the course after the start date?',\n",
    "  'course': 'data-engineering-zoomcamp'},\n",
    " {'text': 'Yes, we will keep all the materials after the course finishes, so you can follow the course at your own pace after it finishes.\\nYou can also continue looking at the homeworks and continue preparing for the next cohort. I guess you can also start working on your final capstone project.',\n",
    "  'section': 'General course-related questions',\n",
    "  'question': 'Course - Can I follow the course after it finishes?',\n",
    "  'course': 'data-engineering-zoomcamp'},\n",
    " {'text': \"The purpose of this document is to capture frequently asked technical questions\\nThe exact day and hour of the course will be 15th Jan 2024 at 17h00. The course will start with the first  “Office Hours'' live.1\\nSubscribe to course public Google Calendar (it works from Desktop only).\\nRegister before the course starts using this link.\\nJoin the course Telegram channel with announcements.\\nDon’t forget to register in DataTalks.Club's Slack and join the channel.\",\n",
    "  'section': 'General course-related questions',\n",
    "  'question': 'Course - When will the course start?',\n",
    "  'course': 'data-engineering-zoomcamp'},\n",
    " {'text': 'You can start by installing and setting up all the dependencies and requirements:\\nGoogle cloud account\\nGoogle Cloud SDK\\nPython 3 (installed with Anaconda)\\nTerraform\\nGit\\nLook over the prerequisites and syllabus to see if you are comfortable with these subjects.',\n",
    "  'section': 'General course-related questions',\n",
    "  'question': 'Course - What can I do before the course starts?',\n",
    "  'course': 'data-engineering-zoomcamp'},\n",
    " {'text': 'Star the repo! Share it with friends if you find it useful ❣️\\nCreate a PR if you see you can improve the text or the structure of the repository.',\n",
    "  'section': 'General course-related questions',\n",
    "  'question': 'How can we contribute to the course?',\n",
    "  'course': 'data-engineering-zoomcamp'}]"
   ]
  },
  {
   "cell_type": "code",
   "execution_count": 23,
   "id": "0973e9ee-5280-4582-9b58-679c10b6a0bf",
   "metadata": {},
   "outputs": [],
   "source": [
    "texts = [doc['text'] for doc in documents]"
   ]
  },
  {
   "cell_type": "code",
   "execution_count": 24,
   "id": "197b5478-a848-4959-aab2-80fff98a4f20",
   "metadata": {},
   "outputs": [
    {
     "data": {
      "text/plain": [
       "np.float64(-0.11023051226897912)"
      ]
     },
     "execution_count": 24,
     "metadata": {},
     "output_type": "execute_result"
    }
   ],
   "source": [
    "embeddings_generator = embedding_model.embed(texts)\n",
    "embeddings_list = list(embeddings_generator)\n",
    "min(embeddings_list[0])  "
   ]
  },
  {
   "cell_type": "code",
   "execution_count": 25,
   "id": "0d72eacc-7f7a-4af5-b85d-b6a6cb3c3132",
   "metadata": {},
   "outputs": [
    {
     "name": "stdout",
     "output_type": "stream",
     "text": [
      "0) 0.7629684696540238\n",
      "1) 0.8182378150042889\n",
      "2) 0.8085397398734189\n",
      "3) 0.7133079015686243\n",
      "4) 0.7304499234333598\n"
     ]
    }
   ],
   "source": [
    "for index, text in enumerate(embeddings_list):\n",
    "    print(f\"{index}) {query_list[0].dot(text)}\")"
   ]
  },
  {
   "cell_type": "code",
   "execution_count": 26,
   "id": "0b6c469a-de24-4c20-8e33-42a0c07a1e1b",
   "metadata": {},
   "outputs": [],
   "source": [
    "full_texts = [doc['question'] + \" \" + doc['text'] for doc in documents]"
   ]
  },
  {
   "cell_type": "code",
   "execution_count": 27,
   "id": "72e99855-ac03-448d-858c-a5db7cadc3d4",
   "metadata": {},
   "outputs": [
    {
     "data": {
      "text/plain": [
       "np.float64(-0.11197279635951791)"
      ]
     },
     "execution_count": 27,
     "metadata": {},
     "output_type": "execute_result"
    }
   ],
   "source": [
    "embeddings_generator = embedding_model.embed(full_texts)\n",
    "full_embeddings = list(embeddings_generator)\n",
    "min(full_embeddings[0])  "
   ]
  },
  {
   "cell_type": "code",
   "execution_count": 28,
   "id": "f9b6c0b6-6f66-4491-b9b5-b45e34afab55",
   "metadata": {},
   "outputs": [
    {
     "name": "stdout",
     "output_type": "stream",
     "text": [
      "0) 0.8514543236908068\n",
      "1) 0.8436594159113068\n",
      "2) 0.8408287048502558\n",
      "3) 0.7755157969663908\n",
      "4) 0.8086007795043938\n"
     ]
    }
   ],
   "source": [
    "for index, text in enumerate(full_embeddings):\n",
    "    print(f\"{index}) {query_list[0].dot(text)}\")"
   ]
  },
  {
   "cell_type": "code",
   "execution_count": 29,
   "id": "d3acedda-55cb-4061-adb2-fb8066a4a99f",
   "metadata": {
    "scrolled": true
   },
   "outputs": [
    {
     "name": "stdout",
     "output_type": "stream",
     "text": [
      "{\n",
      "  \"model\": \"BAAI/bge-small-en\",\n",
      "  \"sources\": {\n",
      "    \"hf\": \"Qdrant/bge-small-en\",\n",
      "    \"url\": \"https://storage.googleapis.com/qdrant-fastembed/BAAI-bge-small-en.tar.gz\",\n",
      "    \"_deprecated_tar_struct\": true\n",
      "  },\n",
      "  \"model_file\": \"model_optimized.onnx\",\n",
      "  \"description\": \"Text embeddings, Unimodal (text), English, 512 input tokens truncation, Prefixes for queries/documents: necessary, 2023 year.\",\n",
      "  \"license\": \"mit\",\n",
      "  \"size_in_GB\": 0.13,\n",
      "  \"additional_files\": [],\n",
      "  \"dim\": 384,\n",
      "  \"tasks\": {}\n",
      "}\n",
      "{\n",
      "  \"model\": \"BAAI/bge-small-en-v1.5\",\n",
      "  \"sources\": {\n",
      "    \"hf\": \"qdrant/bge-small-en-v1.5-onnx-q\",\n",
      "    \"url\": null,\n",
      "    \"_deprecated_tar_struct\": false\n",
      "  },\n",
      "  \"model_file\": \"model_optimized.onnx\",\n",
      "  \"description\": \"Text embeddings, Unimodal (text), English, 512 input tokens truncation, Prefixes for queries/documents: not so necessary, 2023 year.\",\n",
      "  \"license\": \"mit\",\n",
      "  \"size_in_GB\": 0.067,\n",
      "  \"additional_files\": [],\n",
      "  \"dim\": 384,\n",
      "  \"tasks\": {}\n",
      "}\n",
      "{\n",
      "  \"model\": \"snowflake/snowflake-arctic-embed-xs\",\n",
      "  \"sources\": {\n",
      "    \"hf\": \"snowflake/snowflake-arctic-embed-xs\",\n",
      "    \"url\": null,\n",
      "    \"_deprecated_tar_struct\": false\n",
      "  },\n",
      "  \"model_file\": \"onnx/model.onnx\",\n",
      "  \"description\": \"Text embeddings, Unimodal (text), English, 512 input tokens truncation, Prefixes for queries/documents: necessary, 2024 year.\",\n",
      "  \"license\": \"apache-2.0\",\n",
      "  \"size_in_GB\": 0.09,\n",
      "  \"additional_files\": [],\n",
      "  \"dim\": 384,\n",
      "  \"tasks\": {}\n",
      "}\n",
      "{\n",
      "  \"model\": \"snowflake/snowflake-arctic-embed-s\",\n",
      "  \"sources\": {\n",
      "    \"hf\": \"snowflake/snowflake-arctic-embed-s\",\n",
      "    \"url\": null,\n",
      "    \"_deprecated_tar_struct\": false\n",
      "  },\n",
      "  \"model_file\": \"onnx/model.onnx\",\n",
      "  \"description\": \"Text embeddings, Unimodal (text), English, 512 input tokens truncation, Prefixes for queries/documents: necessary, 2024 year.\",\n",
      "  \"license\": \"apache-2.0\",\n",
      "  \"size_in_GB\": 0.13,\n",
      "  \"additional_files\": [],\n",
      "  \"dim\": 384,\n",
      "  \"tasks\": {}\n",
      "}\n",
      "{\n",
      "  \"model\": \"sentence-transformers/all-MiniLM-L6-v2\",\n",
      "  \"sources\": {\n",
      "    \"hf\": \"qdrant/all-MiniLM-L6-v2-onnx\",\n",
      "    \"url\": \"https://storage.googleapis.com/qdrant-fastembed/sentence-transformers-all-MiniLM-L6-v2.tar.gz\",\n",
      "    \"_deprecated_tar_struct\": true\n",
      "  },\n",
      "  \"model_file\": \"model.onnx\",\n",
      "  \"description\": \"Text embeddings, Unimodal (text), English, 256 input tokens truncation, Prefixes for queries/documents: not necessary, 2021 year.\",\n",
      "  \"license\": \"apache-2.0\",\n",
      "  \"size_in_GB\": 0.09,\n",
      "  \"additional_files\": [],\n",
      "  \"dim\": 384,\n",
      "  \"tasks\": {}\n",
      "}\n",
      "{\n",
      "  \"model\": \"sentence-transformers/paraphrase-multilingual-MiniLM-L12-v2\",\n",
      "  \"sources\": {\n",
      "    \"hf\": \"qdrant/paraphrase-multilingual-MiniLM-L12-v2-onnx-Q\",\n",
      "    \"url\": null,\n",
      "    \"_deprecated_tar_struct\": false\n",
      "  },\n",
      "  \"model_file\": \"model_optimized.onnx\",\n",
      "  \"description\": \"Text embeddings, Unimodal (text), Multilingual (~50 languages), 512 input tokens truncation, Prefixes for queries/documents: not necessary, 2019 year.\",\n",
      "  \"license\": \"apache-2.0\",\n",
      "  \"size_in_GB\": 0.22,\n",
      "  \"additional_files\": [],\n",
      "  \"dim\": 384,\n",
      "  \"tasks\": {}\n",
      "}\n"
     ]
    }
   ],
   "source": [
    "import json\n",
    "\n",
    "EMBEDDING_DIMENSIONALITY = 512\n",
    "\n",
    "for model in TextEmbedding.list_supported_models():\n",
    "    if model[\"dim\"] < EMBEDDING_DIMENSIONALITY:\n",
    "        EMBEDDING_DIMENSIONALITY = model[\"dim\"]\n",
    "\n",
    "for model in TextEmbedding.list_supported_models():\n",
    "    if model[\"dim\"] == EMBEDDING_DIMENSIONALITY:\n",
    "        print(json.dumps(model, indent=2))"
   ]
  },
  {
   "cell_type": "markdown",
   "id": "8aba4b5f-a1eb-41c5-8fdd-b9c7d0434143",
   "metadata": {},
   "source": [
    "## Smaller model"
   ]
  },
  {
   "cell_type": "code",
   "execution_count": 30,
   "id": "b25f0349-9543-466e-9f19-6b5cf425b5a2",
   "metadata": {},
   "outputs": [],
   "source": [
    "model_handle = \"BAAI/bge-small-en\""
   ]
  },
  {
   "cell_type": "code",
   "execution_count": 31,
   "id": "c3311217-e624-4b41-87c8-e0bec1ce7ff9",
   "metadata": {},
   "outputs": [],
   "source": [
    "embedding_model = TextEmbedding(model_name=model_handle)"
   ]
  },
  {
   "cell_type": "code",
   "execution_count": 32,
   "id": "90522fff-e950-4089-ae66-71b753dd0927",
   "metadata": {},
   "outputs": [],
   "source": [
    "query: list[str] = ['I just discovered the course. Can I join now?']"
   ]
  },
  {
   "cell_type": "code",
   "execution_count": 33,
   "id": "addf9115-f0bb-479e-b293-653c153178c9",
   "metadata": {},
   "outputs": [
    {
     "data": {
      "text/plain": [
       "np.float32(-0.31303185)"
      ]
     },
     "execution_count": 33,
     "metadata": {},
     "output_type": "execute_result"
    }
   ],
   "source": [
    "embeddings_generator = embedding_model.embed(query)\n",
    "query_list = list(embeddings_generator)\n",
    "min(query_list[0])  "
   ]
  },
  {
   "cell_type": "code",
   "execution_count": 34,
   "id": "530975ef-d08c-424d-8ebf-826cee32b93e",
   "metadata": {},
   "outputs": [],
   "source": [
    "import requests \n",
    "\n",
    "docs_url = 'https://github.com/alexeygrigorev/llm-rag-workshop/raw/main/notebooks/documents.json'\n",
    "docs_response = requests.get(docs_url)\n",
    "documents_raw = docs_response.json()\n",
    "\n",
    "\n",
    "documents = []\n",
    "\n",
    "for course in documents_raw:\n",
    "    course_name = course['course']\n",
    "    if course_name != 'machine-learning-zoomcamp':\n",
    "        continue\n",
    "\n",
    "    for doc in course['documents']:\n",
    "        doc['course'] = course_name\n",
    "        documents.append(doc)"
   ]
  },
  {
   "cell_type": "code",
   "execution_count": 35,
   "id": "a213b8f8-ab8b-49e6-9e17-c0afd2a21dc4",
   "metadata": {},
   "outputs": [
    {
     "data": {
      "text/plain": [
       "375"
      ]
     },
     "execution_count": 35,
     "metadata": {},
     "output_type": "execute_result"
    }
   ],
   "source": [
    "len(documents)"
   ]
  },
  {
   "cell_type": "code",
   "execution_count": 36,
   "id": "db026cee-b7a0-452d-82e7-ec8cfc334cfd",
   "metadata": {},
   "outputs": [],
   "source": [
    "full_texts = [doc['question'] + \" \" + doc['text'] for doc in documents]"
   ]
  },
  {
   "cell_type": "code",
   "execution_count": 37,
   "id": "db73aae5-7a6d-4c9a-acca-3c68de253ced",
   "metadata": {},
   "outputs": [],
   "source": [
    "embeddings_generator = embedding_model.embed(full_texts)"
   ]
  },
  {
   "cell_type": "code",
   "execution_count": 38,
   "id": "ca6463e5-9d67-48e2-bddd-ad851d3c712f",
   "metadata": {},
   "outputs": [
    {
     "data": {
      "text/plain": [
       "np.float32(-0.27256626)"
      ]
     },
     "execution_count": 38,
     "metadata": {},
     "output_type": "execute_result"
    }
   ],
   "source": [
    "full_embeddings = list(embeddings_generator)\n",
    "min(full_embeddings[0])"
   ]
  },
  {
   "cell_type": "code",
   "execution_count": 39,
   "id": "7b6a9203-fc6c-432d-a9fd-d3b127c3dd2b",
   "metadata": {},
   "outputs": [
    {
     "name": "stdout",
     "output_type": "stream",
     "text": [
      "0) 0.8147727251052856\n",
      "1) 0.8197733163833618\n",
      "4) 0.8234946727752686\n",
      "5) 0.8414747714996338\n",
      "6) 0.8691885471343994\n",
      "14) 0.8703172206878662\n"
     ]
    }
   ],
   "source": [
    "last_max_cosine = 0\n",
    "for index, text in enumerate(full_embeddings):\n",
    "    cosine = query_list[0].dot(text)\n",
    "    if cosine > last_max_cosine:\n",
    "        last_max_cosine = cosine\n",
    "        print(f\"{index}) {query_list[0].dot(text)}\")"
   ]
  },
  {
   "cell_type": "code",
   "execution_count": null,
   "id": "0488bf30-1778-4d4d-a957-3f46f1c92f69",
   "metadata": {},
   "outputs": [],
   "source": []
  }
 ],
 "metadata": {
  "kernelspec": {
   "display_name": "Python 3 (ipykernel)",
   "language": "python",
   "name": "python3"
  },
  "language_info": {
   "codemirror_mode": {
    "name": "ipython",
    "version": 3
   },
   "file_extension": ".py",
   "mimetype": "text/x-python",
   "name": "python",
   "nbconvert_exporter": "python",
   "pygments_lexer": "ipython3",
   "version": "3.12.1"
  }
 },
 "nbformat": 4,
 "nbformat_minor": 5
}
