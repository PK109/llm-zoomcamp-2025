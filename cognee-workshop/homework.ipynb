{
 "cells": [
  {
   "cell_type": "code",
   "execution_count": 1,
   "id": "a1432346-000b-495e-b273-0a9e4ca6baf6",
   "metadata": {},
   "outputs": [],
   "source": [
    "import requests\n",
    "import dlt"
   ]
  },
  {
   "cell_type": "code",
   "execution_count": 2,
   "id": "6d24676d-1fd1-4974-88ea-5e858059049f",
   "metadata": {},
   "outputs": [],
   "source": [
    "from dlt.destinations import qdrant\n",
    "\n",
    "qdrant_destination = qdrant(\n",
    "  qd_path=\"qdrant_storage\", \n",
    ")"
   ]
  },
  {
   "cell_type": "code",
   "execution_count": 3,
   "id": "25885809-6323-4f3e-9b43-c0d243da58cb",
   "metadata": {},
   "outputs": [],
   "source": [
    "from dlt.destinations.adapters import qdrant_adapter"
   ]
  },
  {
   "cell_type": "code",
   "execution_count": 4,
   "id": "7d0b1c12-ad44-4105-b370-8a5d6cf7b181",
   "metadata": {},
   "outputs": [],
   "source": [
    "@dlt.resource\n",
    "def zoomcamp_data():\n",
    "    docs_url = 'https://github.com/alexeygrigorev/llm-rag-workshop/raw/main/notebooks/documents.json'\n",
    "    docs_response = requests.get(docs_url)\n",
    "    documents_raw = docs_response.json()\n",
    "\n",
    "    for course in documents_raw:\n",
    "        course_name = course['course']\n",
    "\n",
    "        for doc in course['documents']:\n",
    "            doc['course'] = course_name\n",
    "            yield doc"
   ]
  },
  {
   "cell_type": "code",
   "execution_count": 5,
   "id": "9997ecab-aefa-498b-a514-2bd14a490236",
   "metadata": {},
   "outputs": [
    {
     "name": "stderr",
     "output_type": "stream",
     "text": [
      "/usr/local/python/3.12.1/lib/python3.12/site-packages/tqdm/auto.py:21: TqdmWarning: IProgress not found. Please update jupyter and ipywidgets. See https://ipywidgets.readthedocs.io/en/stable/user_install.html\n",
      "  from .autonotebook import tqdm as notebook_tqdm\n"
     ]
    },
    {
     "name": "stdout",
     "output_type": "stream",
     "text": [
      "Run started at 2025-07-04 20:48:34.752080+00:00 and COMPLETED in 2 minutes and 30.31 seconds with 4 steps.\n",
      "Step extract COMPLETED in 0.38 seconds.\n",
      "\n",
      "Load package 1751662117.9415164 is EXTRACTED and NOT YET LOADED to the destination and contains no failed jobs\n",
      "\n",
      "Step normalize COMPLETED in 0.08 seconds.\n",
      "Normalized data for the following tables:\n",
      "- _dlt_pipeline_state: 1 row(s)\n",
      "- zoomcamp_data: 948 row(s)\n",
      "\n",
      "Load package 1751662117.9415164 is NORMALIZED and NOT YET LOADED to the destination and contains no failed jobs\n",
      "\n",
      "Step load COMPLETED in 2 minutes and 26.65 seconds.\n",
      "Pipeline zoomcamp_pipeline load step completed in 2 minutes and 26.64 seconds\n",
      "1 load package(s) were loaded to destination qdrant and into dataset zoomcamp_tagged_data\n",
      "The qdrant destination used /workspaces/llm-zoomcamp-2025/cognee-workshop/qdrant_storage location to store data\n",
      "Load package 1751662117.9415164 is LOADED and contains no failed jobs\n",
      "\n",
      "Step run COMPLETED in 2 minutes and 30.30 seconds.\n",
      "Pipeline zoomcamp_pipeline load step completed in 2 minutes and 26.64 seconds\n",
      "1 load package(s) were loaded to destination qdrant and into dataset zoomcamp_tagged_data\n",
      "The qdrant destination used /workspaces/llm-zoomcamp-2025/cognee-workshop/qdrant_storage location to store data\n",
      "Load package 1751662117.9415164 is LOADED and contains no failed jobs\n"
     ]
    }
   ],
   "source": [
    "pipeline = dlt.pipeline(\n",
    "    pipeline_name=\"zoomcamp_pipeline\",\n",
    "    destination=qdrant_destination,\n",
    "    dataset_name=\"zoomcamp_tagged_data\"\n",
    "\n",
    ")\n",
    "load_info = pipeline.run(\n",
    "    qdrant_adapter(\n",
    "        zoomcamp_data(),\n",
    "        embed=['question', 'text','section']\n",
    "    )\n",
    ")\n",
    "print(pipeline.last_trace)"
   ]
  },
  {
   "cell_type": "code",
   "execution_count": null,
   "id": "6e863002-5cd1-4a0f-907b-0f46ad815d08",
   "metadata": {},
   "outputs": [],
   "source": []
  }
 ],
 "metadata": {
  "kernelspec": {
   "display_name": "Python 3 (ipykernel)",
   "language": "python",
   "name": "python3"
  },
  "language_info": {
   "codemirror_mode": {
    "name": "ipython",
    "version": 3
   },
   "file_extension": ".py",
   "mimetype": "text/x-python",
   "name": "python",
   "nbconvert_exporter": "python",
   "pygments_lexer": "ipython3",
   "version": "3.12.1"
  }
 },
 "nbformat": 4,
 "nbformat_minor": 5
}
