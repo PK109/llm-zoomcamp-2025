{
 "cells": [
  {
   "cell_type": "code",
   "execution_count": 1,
   "id": "46ffbc91-8bf9-468e-9451-784c9c159047",
   "metadata": {},
   "outputs": [],
   "source": [
    "import requests\n",
    "\n",
    "docs_url = 'https://github.com/alexeygrigorev/llm-rag-workshop/raw/main/notebooks/documents.json'\n",
    "docs_response = requests.get(docs_url)\n",
    "documents_raw = docs_response.json()"
   ]
  },
  {
   "cell_type": "code",
   "execution_count": 1,
   "id": "0acb712e-25e7-4149-b848-b0d6252f3e10",
   "metadata": {},
   "outputs": [
    {
     "ename": "NameError",
     "evalue": "name 'documents_raw' is not defined",
     "output_type": "error",
     "traceback": [
      "\u001b[31m---------------------------------------------------------------------------\u001b[39m",
      "\u001b[31mNameError\u001b[39m                                 Traceback (most recent call last)",
      "\u001b[36mCell\u001b[39m\u001b[36m \u001b[39m\u001b[32mIn[1]\u001b[39m\u001b[32m, line 2\u001b[39m\n\u001b[32m      1\u001b[39m documents = []\n\u001b[32m----> \u001b[39m\u001b[32m2\u001b[39m \u001b[38;5;28;01mfor\u001b[39;00m course \u001b[38;5;129;01min\u001b[39;00m \u001b[43mdocuments_raw\u001b[49m:\n\u001b[32m      3\u001b[39m     course_name = course[\u001b[33m'\u001b[39m\u001b[33mcourse\u001b[39m\u001b[33m'\u001b[39m]\n\u001b[32m      4\u001b[39m     \u001b[38;5;28;01mfor\u001b[39;00m doc \u001b[38;5;129;01min\u001b[39;00m course[\u001b[33m'\u001b[39m\u001b[33mdocuments\u001b[39m\u001b[33m'\u001b[39m]:\n",
      "\u001b[31mNameError\u001b[39m: name 'documents_raw' is not defined"
     ]
    }
   ],
   "source": [
    "documents = []\n",
    "for course in documents_raw:\n",
    "    course_name = course['course']\n",
    "    for doc in course['documents']:\n",
    "        doc['course'] = course_name\n",
    "        documents.append(doc)"
   ]
  },
  {
   "cell_type": "code",
   "execution_count": 2,
   "id": "e26b72bd-466f-4922-9603-e64c3ebbb444",
   "metadata": {},
   "outputs": [],
   "source": [
    "import hashlib\n",
    "\n",
    "def generate_document_id(doc):\n",
    "    combined = f\"{doc['course']}-{doc['question']}-{doc['text'][:10]}\"\n",
    "    hash_object = hashlib.md5(combined.encode())\n",
    "    hash_hex = hash_object.hexdigest()\n",
    "    return hash_hex[:8]\n",
    "\n",
    "for doc in documents:\n",
    "    doc['id'] = generate_document_id(doc)"
   ]
  },
  {
   "cell_type": "code",
   "execution_count": 3,
   "id": "815e2d64-ca0e-47d4-a806-4608023661e0",
   "metadata": {},
   "outputs": [],
   "source": [
    "from collections import defaultdict"
   ]
  },
  {
   "cell_type": "code",
   "execution_count": 4,
   "id": "dc8eef8b-e662-4a01-b1cd-8b45ddb33550",
   "metadata": {},
   "outputs": [],
   "source": [
    "hashes = defaultdict(list)\n",
    "for doc in documents:\n",
    "    doc_id = doc['id']\n",
    "    hashes[doc_id].append(doc)\n"
   ]
  },
  {
   "cell_type": "code",
   "execution_count": 1,
   "id": "342c42b0-a0d8-4a24-a855-e05885fee0d6",
   "metadata": {},
   "outputs": [
    {
     "ename": "NameError",
     "evalue": "name 'hashes' is not defined",
     "output_type": "error",
     "traceback": [
      "\u001b[31m---------------------------------------------------------------------------\u001b[39m",
      "\u001b[31mNameError\u001b[39m                                 Traceback (most recent call last)",
      "\u001b[36mCell\u001b[39m\u001b[36m \u001b[39m\u001b[32mIn[1]\u001b[39m\u001b[32m, line 1\u001b[39m\n\u001b[32m----> \u001b[39m\u001b[32m1\u001b[39m \u001b[38;5;28;01massert\u001b[39;00m \u001b[38;5;28mlen\u001b[39m(\u001b[43mhashes\u001b[49m) == \u001b[38;5;28mlen\u001b[39m(documents)\n",
      "\u001b[31mNameError\u001b[39m: name 'hashes' is not defined"
     ]
    }
   ],
   "source": [
    "assert len(hashes) == len(documents)"
   ]
  },
  {
   "cell_type": "code",
   "execution_count": 12,
   "id": "274252b8-6d21-4d82-9d8d-0b984a277fe3",
   "metadata": {},
   "outputs": [],
   "source": [
    "import json\n",
    "with open('data/documents-with-ids.json','wt') as f:\n",
    "    json.dump(documents, f, indent=2)"
   ]
  },
  {
   "cell_type": "code",
   "execution_count": 18,
   "id": "576dceed-0273-427a-9cba-d960c4f888ec",
   "metadata": {},
   "outputs": [],
   "source": [
    "prompt_template = \"\"\"\n",
    "You emulate a student who's taking our course.\n",
    "Formulate 5 questions this student might ask based on a FAQ record. \n",
    "The record should contain the answer to the questions, and the questions should be complete and not too short.\n",
    "If possible, use as fewer words as possible from the record. \n",
    "\n",
    "The record:\n",
    "\n",
    "section: {section}\n",
    "question: {question}\n",
    "answer: {text}\n",
    "\n",
    "Provide the output in parsable JSON without using code blocks:\n",
    "\n",
    "[\"question1\", \"question2\", ..., \"question5\"]\n",
    "\"\"\".strip()"
   ]
  },
  {
   "cell_type": "code",
   "execution_count": 14,
   "id": "7473efdf-8d1b-4533-8f66-71ad4a152dc6",
   "metadata": {},
   "outputs": [],
   "source": [
    "from openai import OpenAI\n",
    "client = OpenAI()"
   ]
  },
  {
   "cell_type": "code",
   "execution_count": 20,
   "id": "8957372f-255f-4b88-b04a-54bcea976e10",
   "metadata": {},
   "outputs": [
    {
     "data": {
      "text/plain": [
       "URL('https://api.openai.com/v1/')"
      ]
     },
     "execution_count": 20,
     "metadata": {},
     "output_type": "execute_result"
    }
   ],
   "source": []
  },
  {
   "cell_type": "code",
   "execution_count": 16,
   "id": "36eecf99-db12-4039-b715-0ce0e6ffad38",
   "metadata": {
    "scrolled": true
   },
   "outputs": [
    {
     "name": "stdout",
     "output_type": "stream",
     "text": [
      "You emulate a student who's taking our course.\n",
      "Formulate 5 questions this student might ask based on a FAQ record. The record\n",
      "should contain the answer to the questions, and the questions should be complete and not too short.\n",
      "If possible, use as fewer words as possible from the record. \n",
      "\n",
      "The record:\n",
      "\n",
      "section: Module 6: Best practices\n",
      "question: How to destroy infrastructure created via GitHub Actions\n",
      "answer: Problem description\n",
      "Infrastructure created in AWS with CD-Deploy Action needs to be destroyed\n",
      "Solution description\n",
      "From local:\n",
      "terraform init -backend-config=\"key=mlops-zoomcamp-prod.tfstate\" --reconfigure\n",
      "terraform destroy --var-file vars/prod.tfvars\n",
      "Added by Erick Calderin\n",
      "\n",
      "Provide the output in parsable JSON without using code blocks:\n",
      "\n",
      "[\"question1\", \"question2\", ..., \"question5\"]\n"
     ]
    }
   ],
   "source": [
    "prompt = prompt_template.format(**doc)\n",
    "print(prompt)"
   ]
  },
  {
   "cell_type": "code",
   "execution_count": 21,
   "id": "421953df-c639-4bde-9176-7f97c8324650",
   "metadata": {},
   "outputs": [],
   "source": [
    "def generate_questions(doc):\n",
    "    prompt = prompt_template.format(**doc)\n",
    "\n",
    "    response = client.chat.completions.create(\n",
    "        model='o4-mini',\n",
    "        messages=[{\"role\": \"user\", \"content\": prompt}]\n",
    "    )\n",
    "\n",
    "    json_response = response.choices[0].message.content\n",
    "    return json_response"
   ]
  },
  {
   "cell_type": "code",
   "execution_count": 23,
   "id": "69d5bcc8-681b-4c11-bbfd-bba44fc03d88",
   "metadata": {},
   "outputs": [],
   "source": [
    "from tqdm.auto import tqdm"
   ]
  },
  {
   "cell_type": "code",
   "execution_count": 24,
   "id": "907f02ed-b642-4542-b374-1f874a783e0d",
   "metadata": {},
   "outputs": [],
   "source": [
    "results = {}"
   ]
  },
  {
   "cell_type": "markdown",
   "id": "647becd0-9033-46b6-a509-fe0fc9563c61",
   "metadata": {},
   "source": [
    "for doc in tqdm(documents):\n",
    "    doc_id = doc['id']\n",
    "    if doc_id in results:\n",
    "        continue\n",
    "    questions= generate_questions(doc)\n",
    "    results[doc_id] = questions"
   ]
  },
  {
   "cell_type": "code",
   "execution_count": 25,
   "id": "bb1599fb-76fd-4870-9552-5930e764653e",
   "metadata": {},
   "outputs": [],
   "source": [
    "import pickle"
   ]
  },
  {
   "cell_type": "code",
   "execution_count": 26,
   "id": "f74ccaef-a086-4991-adb5-6727332494af",
   "metadata": {},
   "outputs": [],
   "source": [
    "with open('data/results.bin', 'rb') as f_in:\n",
    "    results = pickle.load(f_in)\n",
    "    "
   ]
  },
  {
   "cell_type": "code",
   "execution_count": 28,
   "id": "b3a28834-2df1-40d1-93f3-034f28e03194",
   "metadata": {},
   "outputs": [
    {
     "data": {
      "text/plain": [
       "[('c02e79ef',\n",
       "  '[\"When does the course begin?\", \"How can I get the course schedule?\", \"What is the link for course registration?\", \"How can I receive course announcements?\", \"Where do I join the Slack channel?\"]'),\n",
       " ('1f6520ca',\n",
       "  '[\"Where can I find the prerequisites for this course?\", \"How do I check the prerequisites for this course?\", \"Where are the course prerequisites listed?\", \"What are the requirements for joining this course?\", \"Where is the list of prerequisites for the course?\"]'),\n",
       " ('7842b56a',\n",
       "  '[\\n  \"Can I enroll in the course after it starts?\",\\n  \"Is late registration possible?\",\\n  \"Am I eligible to submit homework if I join late?\",\\n  \"Are there deadlines for final projects if I join late?\",\\n  \"Can I submit all assignments at the end of the course if I start late?\"\\n]')]"
      ]
     },
     "execution_count": 28,
     "metadata": {},
     "output_type": "execute_result"
    }
   ],
   "source": [
    "list(results.items())[:3]"
   ]
  },
  {
   "cell_type": "code",
   "execution_count": null,
   "id": "9a8c0193-4ccc-40fc-af4d-272be3c3cfa3",
   "metadata": {},
   "outputs": [],
   "source": [
    "parsed_results ={}"
   ]
  },
  {
   "cell_type": "code",
   "execution_count": 29,
   "id": "e363ba45-1397-4d08-8e54-218757fcd72b",
   "metadata": {},
   "outputs": [
    {
     "name": "stdout",
     "output_type": "stream",
     "text": [
      "Problem with doc with id: 58c9f99f\n"
     ]
    }
   ],
   "source": [
    "for doc_id, json_questions in results.items():\n",
    "    if doc_id in parsed_results:\n",
    "        continue\n",
    "    try:\n",
    "        parsed_results[doc_id] = json.loads(json_questions)\n",
    "    except:\n",
    "        print(f\"Problem with doc with id: {doc_id}\")"
   ]
  },
  {
   "cell_type": "code",
   "execution_count": 37,
   "id": "193b03fa-cbea-424b-a33c-cd758cb86228",
   "metadata": {},
   "outputs": [],
   "source": [
    "#manual cleaning faulty docs\n",
    "parsed_results['58c9f99f'] =[\n",
    "    r\"How can I resolve the Docker error 'invalid mode: \\Program Files\\Git\\var\\lib\\postgresql\\data'?\",\n",
    "    \"What should I do if I encounter an invalid mode error in Docker on Windows?\",\n",
    "    \"What is the correct mounting path to use in Docker for PostgreSQL data on Windows?\",\n",
    "    \"Can you provide an example of a correct Docker mounting path for PostgreSQL data?\",\n",
    "    r\"How do I correct the mounting path error in Docker for \\Program Files\\Git\\var\\lib\\postgresql\\data'?\"\n",
    "]"
   ]
  },
  {
   "cell_type": "code",
   "execution_count": 44,
   "id": "e4553b25-4e27-4e19-b413-11c4531240f5",
   "metadata": {},
   "outputs": [],
   "source": [
    "doc_index = {d['id']:d for d in documents}"
   ]
  },
  {
   "cell_type": "code",
   "execution_count": 47,
   "id": "428950f5-2de6-4cbb-9b47-c25cd8c51d1f",
   "metadata": {},
   "outputs": [],
   "source": [
    "final_results = []\n",
    "\n",
    "for doc_id, questions in parsed_results.items():\n",
    "    course = doc_index[doc_id]['course']\n",
    "    for q in questions:\n",
    "        final_results.append((q, course,doc_id))"
   ]
  },
  {
   "cell_type": "code",
   "execution_count": 49,
   "id": "53c2da5e-dd2b-4596-8648-2ebc3836088d",
   "metadata": {},
   "outputs": [],
   "source": [
    "import pandas as pd"
   ]
  },
  {
   "cell_type": "code",
   "execution_count": 51,
   "id": "acae88ee-cf4b-4c92-84b6-a89a0af392ea",
   "metadata": {},
   "outputs": [],
   "source": [
    "df = pd.DataFrame(final_results, columns=['query', 'course', 'document'])"
   ]
  },
  {
   "cell_type": "code",
   "execution_count": 53,
   "id": "5a3befba-54d1-470e-9ca9-904da3491e03",
   "metadata": {},
   "outputs": [
    {
     "data": {
      "text/html": [
       "<div>\n",
       "<style scoped>\n",
       "    .dataframe tbody tr th:only-of-type {\n",
       "        vertical-align: middle;\n",
       "    }\n",
       "\n",
       "    .dataframe tbody tr th {\n",
       "        vertical-align: top;\n",
       "    }\n",
       "\n",
       "    .dataframe thead th {\n",
       "        text-align: right;\n",
       "    }\n",
       "</style>\n",
       "<table border=\"1\" class=\"dataframe\">\n",
       "  <thead>\n",
       "    <tr style=\"text-align: right;\">\n",
       "      <th></th>\n",
       "      <th>query</th>\n",
       "      <th>course</th>\n",
       "      <th>document</th>\n",
       "    </tr>\n",
       "  </thead>\n",
       "  <tbody>\n",
       "    <tr>\n",
       "      <th>0</th>\n",
       "      <td>When does the course begin?</td>\n",
       "      <td>data-engineering-zoomcamp</td>\n",
       "      <td>c02e79ef</td>\n",
       "    </tr>\n",
       "    <tr>\n",
       "      <th>1</th>\n",
       "      <td>How can I get the course schedule?</td>\n",
       "      <td>data-engineering-zoomcamp</td>\n",
       "      <td>c02e79ef</td>\n",
       "    </tr>\n",
       "    <tr>\n",
       "      <th>2</th>\n",
       "      <td>What is the link for course registration?</td>\n",
       "      <td>data-engineering-zoomcamp</td>\n",
       "      <td>c02e79ef</td>\n",
       "    </tr>\n",
       "    <tr>\n",
       "      <th>3</th>\n",
       "      <td>How can I receive course announcements?</td>\n",
       "      <td>data-engineering-zoomcamp</td>\n",
       "      <td>c02e79ef</td>\n",
       "    </tr>\n",
       "    <tr>\n",
       "      <th>4</th>\n",
       "      <td>Where do I join the Slack channel?</td>\n",
       "      <td>data-engineering-zoomcamp</td>\n",
       "      <td>c02e79ef</td>\n",
       "    </tr>\n",
       "    <tr>\n",
       "      <th>5</th>\n",
       "      <td>Where can I find the prerequisites for this co...</td>\n",
       "      <td>data-engineering-zoomcamp</td>\n",
       "      <td>1f6520ca</td>\n",
       "    </tr>\n",
       "    <tr>\n",
       "      <th>6</th>\n",
       "      <td>How do I check the prerequisites for this course?</td>\n",
       "      <td>data-engineering-zoomcamp</td>\n",
       "      <td>1f6520ca</td>\n",
       "    </tr>\n",
       "    <tr>\n",
       "      <th>7</th>\n",
       "      <td>Where are the course prerequisites listed?</td>\n",
       "      <td>data-engineering-zoomcamp</td>\n",
       "      <td>1f6520ca</td>\n",
       "    </tr>\n",
       "    <tr>\n",
       "      <th>8</th>\n",
       "      <td>What are the requirements for joining this cou...</td>\n",
       "      <td>data-engineering-zoomcamp</td>\n",
       "      <td>1f6520ca</td>\n",
       "    </tr>\n",
       "    <tr>\n",
       "      <th>9</th>\n",
       "      <td>Where is the list of prerequisites for the cou...</td>\n",
       "      <td>data-engineering-zoomcamp</td>\n",
       "      <td>1f6520ca</td>\n",
       "    </tr>\n",
       "  </tbody>\n",
       "</table>\n",
       "</div>"
      ],
      "text/plain": [
       "                                               query  \\\n",
       "0                        When does the course begin?   \n",
       "1                 How can I get the course schedule?   \n",
       "2          What is the link for course registration?   \n",
       "3            How can I receive course announcements?   \n",
       "4                 Where do I join the Slack channel?   \n",
       "5  Where can I find the prerequisites for this co...   \n",
       "6  How do I check the prerequisites for this course?   \n",
       "7         Where are the course prerequisites listed?   \n",
       "8  What are the requirements for joining this cou...   \n",
       "9  Where is the list of prerequisites for the cou...   \n",
       "\n",
       "                      course  document  \n",
       "0  data-engineering-zoomcamp  c02e79ef  \n",
       "1  data-engineering-zoomcamp  c02e79ef  \n",
       "2  data-engineering-zoomcamp  c02e79ef  \n",
       "3  data-engineering-zoomcamp  c02e79ef  \n",
       "4  data-engineering-zoomcamp  c02e79ef  \n",
       "5  data-engineering-zoomcamp  1f6520ca  \n",
       "6  data-engineering-zoomcamp  1f6520ca  \n",
       "7  data-engineering-zoomcamp  1f6520ca  \n",
       "8  data-engineering-zoomcamp  1f6520ca  \n",
       "9  data-engineering-zoomcamp  1f6520ca  "
      ]
     },
     "execution_count": 53,
     "metadata": {},
     "output_type": "execute_result"
    }
   ],
   "source": [
    "df.head(10)"
   ]
  },
  {
   "cell_type": "code",
   "execution_count": 54,
   "id": "bcb47a1f-4dce-46be-ad13-9fab9be508ed",
   "metadata": {},
   "outputs": [],
   "source": [
    "df.to_csv('data/ground-truth-data.csv', index=False)"
   ]
  },
  {
   "cell_type": "code",
   "execution_count": null,
   "id": "77d8082e-cbd8-4963-85a5-9561da90b393",
   "metadata": {},
   "outputs": [],
   "source": []
  }
 ],
 "metadata": {
  "kernelspec": {
   "display_name": "Python 3 (ipykernel)",
   "language": "python",
   "name": "python3"
  },
  "language_info": {
   "codemirror_mode": {
    "name": "ipython",
    "version": 3
   },
   "file_extension": ".py",
   "mimetype": "text/x-python",
   "name": "python",
   "nbconvert_exporter": "python",
   "pygments_lexer": "ipython3",
   "version": "3.12.1"
  }
 },
 "nbformat": 4,
 "nbformat_minor": 5
}
